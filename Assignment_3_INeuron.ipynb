{
 "cells": [
  {
   "cell_type": "markdown",
   "metadata": {},
   "source": [
    "1.1 Write a Python Program to implement your own myreduce() function which works exactly\n",
    "like Python's built-in function reduce()"
   ]
  },
  {
   "cell_type": "code",
   "execution_count": 2,
   "metadata": {},
   "outputs": [
    {
     "name": "stdout",
     "output_type": "stream",
     "text": [
      "This block belongs for integer operations\n",
      "please enter the first number for the sequence: 12\n",
      "please enter the second number for the sequence: 3\n",
      "please enter the third number for the sequence: 4\n",
      "please enter the fourth number for the sequence: 6\n",
      "The Entered sequence of list is : [12, 3, 4, 6]\n",
      "the Final number obtained by the reduce function is : 0.16666666666666666\n",
      "\n",
      " This block belongs for String operations\n",
      "please enter the first word for the sequence: ra\n",
      "please enter the second word for the sequence: vi\n",
      "please enter the third word for the sequence: ka\n",
      "please enter the fourth word for the sequence: ku\n",
      "The Entered sequence of list is : ['ra', 'vi', 'ka', 'ku']\n",
      "Arithimatic operations such as division or multiplication or substraction are not possible on letters\n"
     ]
    }
   ],
   "source": [
    "#Reduce Function\n",
    "#The function reduce(function, sequence) continually applies the function to the sequence. It then returns a single value.\n",
    "def myreduce(function, sequence):\n",
    "    first_num = sequence[0]\n",
    "    for i in sequence[1:]:\n",
    "        first_num = function(first_num, i)\n",
    "    return first_num\n",
    "\n",
    "#------------------------------------------------------------------\n",
    "#various Functions that can be used while using Reduce funcrtion\n",
    "def d_sum(a, b): \n",
    "    return a + b\n",
    "def d_mul(a,b):\n",
    "    return a * b\n",
    "def d_sub(a,b):\n",
    "    return a - b\n",
    "def d_div(a,b):\n",
    "    return a/b\n",
    "#-------------------------------------------------------------------\n",
    "#The sequence on which the reduce function will be worked on\n",
    "\n",
    "#for the integers or numbers this list-num_list can be used.\n",
    "print(\"This block belongs for integer operations\")\n",
    "num_list=[]\n",
    "first=int(input(\"please enter the first number for the sequence: \"))\n",
    "second=int(input(\"please enter the second number for the sequence: \"))\n",
    "third=int(input(\"please enter the third number for the sequence: \"))\n",
    "fourth=int(input(\"please enter the fourth number for the sequence: \"))\n",
    "num_list.append(first)\n",
    "num_list.append(second)\n",
    "num_list.append(third)\n",
    "num_list.append(fourth)\n",
    "print(\"The Entered sequence of list is :\",num_list)\n",
    "\n",
    "#myreduce function \n",
    "try:\n",
    "    num=(myreduce(d_div, num_list))\n",
    "    print(\"the Final number obtained by the reduce function is :\",num)\n",
    "except:\n",
    "    print(\"Please check the input numbers entered as the numbers are not divisible by Zero\")\n",
    "#-------------------------------------------------------------------\n",
    "#for the integers or numbers this list-num_list can be used.\n",
    "print(\"\\n This block belongs for String operations\")\n",
    "string_list=[]\n",
    "first=input(\"please enter the first word for the sequence: \")\n",
    "second=input(\"please enter the second word for the sequence: \")\n",
    "third=input(\"please enter the third word for the sequence: \")\n",
    "fourth=input(\"please enter the fourth word for the sequence: \")\n",
    "string_list.append(first)\n",
    "string_list.append(second)\n",
    "string_list.append(third)\n",
    "string_list.append(fourth)\n",
    "print(\"The Entered sequence of list is :\",string_list)\n",
    "try:\n",
    "    string=(myreduce(d_div, string_list))\n",
    "    print(\"the Final word obtained by the reduce function is :\",string)\n",
    "except:\n",
    "    print(\"Arithimatic operations such as division or multiplication or substraction are not possible on letters\")\n",
    "    \n",
    "    "
   ]
  },
  {
   "cell_type": "code",
   "execution_count": null,
   "metadata": {},
   "outputs": [],
   "source": []
  },
  {
   "cell_type": "markdown",
   "metadata": {},
   "source": [
    "1.2 Write a Python program to implement your own myfilter() function which works exactly\n",
    "like Python's built-in function filter()"
   ]
  },
  {
   "cell_type": "code",
   "execution_count": 33,
   "metadata": {},
   "outputs": [
    {
     "name": "stdout",
     "output_type": "stream",
     "text": [
      "The even numbers in the list are : [56, -28, 90, -2, -56, 72]\n",
      "The positive numbers in the list are : [3, 56, 90, 33, 25, 72]\n"
     ]
    }
   ],
   "source": [
    "#my filter function\n",
    "def myfilter(function,sequence):\n",
    "    fin_val=[]\n",
    "    for itt in sequence:\n",
    "        if function(itt):\n",
    "            fin_val.append(itt)\n",
    "    return fin_val\n",
    "\n",
    "\n",
    "#------------------------------------------------------------------\n",
    "#various Functions that can be used while using Reduce funcrtion\n",
    "def check_even(x):\n",
    "    if x%2==0:\n",
    "        return True\n",
    "\n",
    "def check_pos(x):\n",
    "    if x>=0:\n",
    "        return True\n",
    "    \n",
    "#using myfilter\n",
    "even=myfilter(check_even, [3,56,-28,90,33,25,-2,-56,72])\n",
    "print(\"The even numbers in the list are :\",even)\n",
    "\n",
    "pos=myfilter(check_pos, [3,56,-28,90,33,25,-2,-56,72])\n",
    "print(\"The positive numbers in the list are :\",pos)\n"
   ]
  },
  {
   "cell_type": "code",
   "execution_count": null,
   "metadata": {},
   "outputs": [],
   "source": []
  },
  {
   "cell_type": "markdown",
   "metadata": {},
   "source": [
    "2. Implement List comprehensions to produce the following lists.\n",
    "Write List comprehensions to produce the following Lists\n",
    "['A', 'C', 'A', 'D', 'G', 'I', ’L’, ‘ D’]\n",
    "['x', 'xx', 'xxx', 'xxxx', 'y', 'yy', 'yyy', 'yyyy', 'z', 'zz', 'zzz', 'zzzz']\n",
    "['x', 'y', 'z', 'xx', 'yy', 'zz', 'xxx', 'yyy', 'zzz', 'xxxx', 'yyyy', 'zzzz']\n",
    "[[2], [3], [4], [3], [4], [5], [4], [5], [6]] [[2, 3, 4, 5], [3, 4, 5, 6],\n",
    "[4, 5, 6, 7], [5, 6, 7, 8]]\n",
    "[(1, 1), (2, 1), (3, 1), (1, 2), (2, 2), (3, 2), (1, 3), (2, 3), (3, 3)]"
   ]
  },
  {
   "cell_type": "code",
   "execution_count": 48,
   "metadata": {},
   "outputs": [
    {
     "name": "stdout",
     "output_type": "stream",
     "text": [
      "The given string ACADGILD is shown in list comprehension  ['A', 'C', 'A', 'D', 'G', 'I', 'L', 'D']\n",
      "The given list ['x','y','z']is shown in list comprehension  ['x', 'xx', 'xxx', 'xxxx', 'y', 'yy', 'yyy', 'yyyy', 'z', 'zz', 'zzz', 'zzzz']\n",
      "The desired list comprehension for ['x','y','z']is shown ['x', 'y', 'z', 'xx', 'yy', 'zz', 'xxx', 'yyy', 'zzz', 'xxxx', 'yyyy', 'zzzz']\n",
      "The desired list comprehension for [2,3,4] is shown  [[2], [3], [4], [3], [4], [5], [4], [5], [6]]\n",
      "The desired list comprehension for [2,3,4,5] is shown [[2, 3, 4, 5], [3, 4, 5, 6], [4, 5, 6, 7], [5, 6, 7, 8]]\n",
      "The desired list comprehension for [1,2,3] is shown [(1, 1), (2, 1), (3, 1), (1, 2), (2, 2), (3, 2), (1, 3), (2, 3), (3, 3)]\n"
     ]
    }
   ],
   "source": [
    "string = \"ACADGILD\"\n",
    "al_list = [ alphabet for alphabet in word ]\n",
    "print (\"The given string ACADGILD is shown in list comprehension \" ,al_list)\n",
    "\n",
    "\n",
    "i_list = ['x','y','z']\n",
    "fin_val= [ it*num for it in i_list for num in range(1,5)  ]\n",
    "print(\"The given list ['x','y','z']is shown in list comprehension  \" +   str(fin_val))\n",
    "\n",
    "\n",
    "i_list = ['x','y','z']\n",
    "res = [ it*num for num in range(1,5) for it in i_list  ]\n",
    "print(\"The desired list comprehension for ['x','y','z']is shown \" +   str(res))\n",
    "\n",
    "\n",
    "in_list = [2,3,4]\n",
    "result = [ [dig+num] for dig in in_list for num in range(0,3)]\n",
    "print(\"The desired list comprehension for [2,3,4] is shown \" ,  result)\n",
    "\n",
    "\n",
    "di_list = [2,3,4,5]\n",
    "di_result = [ [digi+num for digi in di_list] for num in range(0,4)  ]\n",
    "print(\"The desired list comprehension for [2,3,4,5] is shown\",di_result)\n",
    "\n",
    "\n",
    "num_list=[1,2,3]\n",
    "final = [ (sec,fir) for fir in num_list for sec in num_list]\n",
    "print(\"The desired list comprehension for [1,2,3] is shown\" ,final)\n",
    "\n"
   ]
  },
  {
   "cell_type": "code",
   "execution_count": null,
   "metadata": {},
   "outputs": [],
   "source": []
  }
 ],
 "metadata": {
  "kernelspec": {
   "display_name": "Python 3",
   "language": "python",
   "name": "python3"
  },
  "language_info": {
   "codemirror_mode": {
    "name": "ipython",
    "version": 3
   },
   "file_extension": ".py",
   "mimetype": "text/x-python",
   "name": "python",
   "nbconvert_exporter": "python",
   "pygments_lexer": "ipython3",
   "version": "3.7.4"
  }
 },
 "nbformat": 4,
 "nbformat_minor": 2
}
